{
  "nbformat": 4,
  "nbformat_minor": 0,
  "metadata": {
    "colab": {
      "provenance": []
    },
    "kernelspec": {
      "name": "python3",
      "display_name": "Python 3"
    },
    "language_info": {
      "name": "python"
    }
  },
  "cells": [
    {
      "cell_type": "code",
      "source": [
        "!pip install lightfm\n",
        "import pandas as pd\n",
        "import numpy as np\n",
        "import os\n",
        "from scipy.sparse import coo_matrix, csr_matrix\n",
        "from lightfm import LightFM\n",
        "from lightfm.evaluation import precision_at_k, auc_score\n",
        "from sklearn.feature_extraction.text import TfidfVectorizer\n",
        "from google.colab import files, drive"
      ],
      "metadata": {
        "colab": {
          "base_uri": "https://localhost:8080/"
        },
        "id": "9CE14HMAeUIE",
        "outputId": "5e3178e5-04ba-4ead-f79c-88406a8462e1"
      },
      "execution_count": null,
      "outputs": [
        {
          "output_type": "stream",
          "name": "stdout",
          "text": [
            "Requirement already satisfied: lightfm in /usr/local/lib/python3.10/dist-packages (1.17)\n",
            "Requirement already satisfied: numpy in /usr/local/lib/python3.10/dist-packages (from lightfm) (1.26.4)\n",
            "Requirement already satisfied: scipy>=0.17.0 in /usr/local/lib/python3.10/dist-packages (from lightfm) (1.13.1)\n",
            "Requirement already satisfied: requests in /usr/local/lib/python3.10/dist-packages (from lightfm) (2.32.3)\n",
            "Requirement already satisfied: scikit-learn in /usr/local/lib/python3.10/dist-packages (from lightfm) (1.5.2)\n",
            "Requirement already satisfied: charset-normalizer<4,>=2 in /usr/local/lib/python3.10/dist-packages (from requests->lightfm) (3.4.0)\n",
            "Requirement already satisfied: idna<4,>=2.5 in /usr/local/lib/python3.10/dist-packages (from requests->lightfm) (3.10)\n",
            "Requirement already satisfied: urllib3<3,>=1.21.1 in /usr/local/lib/python3.10/dist-packages (from requests->lightfm) (2.2.3)\n",
            "Requirement already satisfied: certifi>=2017.4.17 in /usr/local/lib/python3.10/dist-packages (from requests->lightfm) (2024.8.30)\n",
            "Requirement already satisfied: joblib>=1.2.0 in /usr/local/lib/python3.10/dist-packages (from scikit-learn->lightfm) (1.4.2)\n",
            "Requirement already satisfied: threadpoolctl>=3.1.0 in /usr/local/lib/python3.10/dist-packages (from scikit-learn->lightfm) (3.5.0)\n"
          ]
        }
      ]
    },
    {
      "cell_type": "code",
      "source": [
        "# mounting google drive\n",
        "drive.mount('/content/drive')"
      ],
      "metadata": {
        "id": "rwUFLZZweY2s",
        "colab": {
          "base_uri": "https://localhost:8080/"
        },
        "outputId": "3a5b4c69-6eaa-4c52-c2fd-1e6b9a4765a4"
      },
      "execution_count": null,
      "outputs": [
        {
          "output_type": "stream",
          "name": "stdout",
          "text": [
            "Mounted at /content/drive\n"
          ]
        }
      ]
    },
    {
      "cell_type": "code",
      "source": [
        "test_sample_with_recommendations = pd.read_csv('/content/drive/MyDrive/DOCUMENTS_COLLEGE/Internships/Samsung_PRISM/Mobile_rec_dataset/testing_sample-1.csv')"
      ],
      "metadata": {
        "id": "1E7F-tfcnMRl"
      },
      "execution_count": null,
      "outputs": []
    },
    {
      "cell_type": "code",
      "source": [
        "print(test_sample_with_recommendations.shape)\n",
        "print(test_sample_with_recommendations.columns)\n",
        "print(test_sample_with_recommendations.head())"
      ],
      "metadata": {
        "colab": {
          "base_uri": "https://localhost:8080/"
        },
        "id": "hoKoMc-Mnt4l",
        "outputId": "7880a04b-08e6-4cea-a8e9-42570f75535e"
      },
      "execution_count": null,
      "outputs": [
        {
          "output_type": "stream",
          "name": "stdout",
          "text": [
            "(15003, 10)\n",
            "Index(['app_package', 'review', 'rating', 'votes', 'date', 'uid',\n",
            "       'formated_date', 'unix_timestamp', 'app_category', 'sentiment_score'],\n",
            "      dtype='object')\n",
            "                       app_package  \\\n",
            "0            com.cleverapps.heroes   \n",
            "1  com.outfit7.mytalkingangelafree   \n",
            "2      com.playhardlab.herofactory   \n",
            "3          com.jumpgames.RealSteel   \n",
            "4            com.szckhd.jwgly.azyw   \n",
            "\n",
            "                                              review  rating  votes  \\\n",
            "0                             It's really a fun game       5      1   \n",
            "1  I really love your updated version. it's. bett...       5    718   \n",
            "2           Very good but the fary is a bit annoying       4      0   \n",
            "3                 Bad game ever I want my money back       1      0   \n",
            "4                                  Problem resolved.       4      2   \n",
            "\n",
            "               date               uid formated_date  unix_timestamp  \\\n",
            "0  October 21, 2018  shqoc6X1fcJRLEmx    21-10-2018      1540094400   \n",
            "1    August 3, 2019  smlNgCSD1z66dtpP    03-08-2019      1564804800   \n",
            "2     April 2, 2022  smnwlsh9CjgHk8Ul    02-04-2022      1648872000   \n",
            "3  October 10, 2019  snCCzP0FvzSb0p8A    10-10-2019      1570680000   \n",
            "4     July 29, 2020  snCCzP0FvzSb0p8A    29-07-2020      1595995200   \n",
            "\n",
            "   app_category  sentiment_score  \n",
            "0        Casual                1  \n",
            "1        Casual                1  \n",
            "2    Simulation                1  \n",
            "3        Action               -1  \n",
            "4  Role Playing               -1  \n"
          ]
        }
      ]
    },
    {
      "cell_type": "code",
      "source": [
        "# Step 2: Preprocess the dataset\n",
        "# Assign unique numeric IDs to users and items\n",
        "test_sample_with_recommendations['user_id'] = test_sample_with_recommendations['uid'].astype('category').cat.codes\n",
        "test_sample_with_recommendations['item_id'] = test_sample_with_recommendations['app_package'].astype('category').cat.codes\n",
        "\n",
        "# Create the interaction weight (interactions) based only on the review sentiment\n",
        "test_sample_with_recommendations['interaction'] = test_sample_with_recommendations['sentiment_score'].clip(lower=0)  # Positive sentiments only\n",
        "\n",
        "# Build the interaction matrix (user-item matrix)\n",
        "interaction_matrix = coo_matrix(\n",
        "    (test_sample_with_recommendations['interaction'],\n",
        "     (test_sample_with_recommendations['user_id'], test_sample_with_recommendations['item_id']))\n",
        ")"
      ],
      "metadata": {
        "id": "YCmI4dx9p8TI"
      },
      "execution_count": null,
      "outputs": []
    },
    {
      "cell_type": "code",
      "source": [
        "# Step 3: Train LightFM model\n",
        "# Initialize LightFM with the logistic loss function\n",
        "model = LightFM(loss='logistic', random_state=42)\n",
        "\n",
        "# Train the model on the interaction matrix\n",
        "model.fit(interaction_matrix, epochs=10, num_threads=4)"
      ],
      "metadata": {
        "colab": {
          "base_uri": "https://localhost:8080/"
        },
        "id": "2iBwZWIbqWsu",
        "outputId": "1f124487-7ec1-413c-8971-b0cdf2570255"
      },
      "execution_count": null,
      "outputs": [
        {
          "output_type": "execute_result",
          "data": {
            "text/plain": [
              "<lightfm.lightfm.LightFM at 0x7b9e05d159c0>"
            ]
          },
          "metadata": {},
          "execution_count": 9
        }
      ]
    },
    {
      "cell_type": "code",
      "source": [
        "# Step 4: Generate recommendations\n",
        "# Map item IDs back to app names\n",
        "item_mapping = dict(enumerate(test_sample_with_recommendations['app_package'].astype('category').cat.categories))\n",
        "user_mapping = dict(enumerate(test_sample_with_recommendations['uid'].astype('category').cat.categories))\n",
        "\n",
        "# Function to get top-K recommendations for a user\n",
        "def get_recommendations(user_id, k=5):\n",
        "    # Predict scores for all items for a given user\n",
        "    scores = model.predict(\n",
        "        user_ids=np.full(interaction_matrix.shape[1], user_id),  # Create an array of the user_id\n",
        "        item_ids=np.arange(interaction_matrix.shape[1])         # All item IDs\n",
        "    )\n",
        "    # Get top-K item IDs\n",
        "    top_items = np.argsort(-scores)[:k]\n",
        "    # Map item IDs to app names\n",
        "    return [item_mapping[item] for item in top_items]\n",
        "\n",
        "# Generate recommendations for all users\n",
        "unique_users = test_sample_with_recommendations['user_id'].unique()\n",
        "recommendations = {user: get_recommendations(user, k=5) for user in unique_users}\n",
        "\n",
        "# Add recommendations as a new column to the dataset\n",
        "test_sample_with_recommendations['recommendations'] = test_sample_with_recommendations['user_id'].map(recommendations)\n",
        "\n",
        "# Save the dataset with recommendations\n",
        "output_path = '/content/drive/MyDrive/DOCUMENTS_COLLEGE/Internships/Samsung_PRISM/Mobile_rec_dataset/testing_sample_with_recommendations.csv'\n",
        "test_sample_with_recommendations.to_csv(output_path, index=False)\n",
        "\n",
        "print(test_sample_with_recommendations[['uid', 'app_package', 'recommendations']].head())\n"
      ],
      "metadata": {
        "colab": {
          "base_uri": "https://localhost:8080/"
        },
        "id": "4FXDEhIsqaDf",
        "outputId": "3438fd69-a12a-4d52-f360-03d10d72efcf"
      },
      "execution_count": null,
      "outputs": [
        {
          "output_type": "stream",
          "name": "stdout",
          "text": [
            "                uid                      app_package  \\\n",
            "0  shqoc6X1fcJRLEmx            com.cleverapps.heroes   \n",
            "1  smlNgCSD1z66dtpP  com.outfit7.mytalkingangelafree   \n",
            "2  smnwlsh9CjgHk8Ul      com.playhardlab.herofactory   \n",
            "3  snCCzP0FvzSb0p8A          com.jumpgames.RealSteel   \n",
            "4  snCCzP0FvzSb0p8A            com.szckhd.jwgly.azyw   \n",
            "\n",
            "                                     recommendations  \n",
            "0  [com.bigcool.puzzle.solitairegenies, com.linkd...  \n",
            "1  [com.bigcool.puzzle.solitairegenies, com.linkd...  \n",
            "2  [com.bigcool.puzzle.solitairegenies, com.linkd...  \n",
            "3  [com.bigcool.puzzle.solitairegenies, com.linkd...  \n",
            "4  [com.bigcool.puzzle.solitairegenies, com.linkd...  \n"
          ]
        }
      ]
    },
    {
      "cell_type": "code",
      "source": [
        "# Step 5: Evaluation Metrics\n",
        "# Define evaluation functions for Hit@K and NDCG@K\n",
        "def hit_at_k(test_data, recommendations, k=5):\n",
        "    hits = 0\n",
        "    total_users = len(test_data['user_id'].unique())\n",
        "\n",
        "    for user_id, group in test_data.groupby('user_id'):\n",
        "        ground_truth = group['item_id'].values\n",
        "        top_k_recommendations = [test_sample_with_recommendations[test_sample_with_recommendations['app_package'] == app]['item_id'].values[0]\n",
        "                                 for app in recommendations[user_id][:k]\n",
        "                                 if app in test_sample_with_recommendations['app_package'].values]\n",
        "\n",
        "        if any(item in top_k_recommendations for item in ground_truth):\n",
        "            hits += 1\n",
        "\n",
        "    return hits / total_users\n",
        "\n",
        "def ndcg_at_k(test_data, recommendations, k=5):\n",
        "    ndcg = 0\n",
        "    total_users = len(test_data['user_id'].unique())\n",
        "\n",
        "    for user_id, group in test_data.groupby('user_id'):\n",
        "        ground_truth = group['item_id'].values\n",
        "        top_k_recommendations = [test_sample_with_recommendations[test_sample_with_recommendations['app_package'] == app]['item_id'].values[0]\n",
        "                                 for app in recommendations[user_id][:k]\n",
        "                                 if app in test_sample_with_recommendations['app_package'].values]\n",
        "\n",
        "        # Compute DCG\n",
        "        dcg = 0\n",
        "        for rank, item in enumerate(top_k_recommendations):\n",
        "            if item in ground_truth:\n",
        "                dcg += 1 / np.log2(rank + 2)\n",
        "\n",
        "        # Compute IDCG\n",
        "        idcg = sum(1 / np.log2(rank + 2) for rank in range(min(k, len(ground_truth))))\n",
        "\n",
        "        # Normalize DCG\n",
        "        ndcg += dcg / idcg if idcg > 0 else 0\n",
        "\n",
        "    return ndcg / total_users\n",
        "\n",
        "# Evaluate the model\n",
        "hit5 = hit_at_k(test_sample_with_recommendations, recommendations, k=5)\n",
        "hit10 = hit_at_k(test_sample_with_recommendations, recommendations, k=10)\n",
        "ndcg5 = ndcg_at_k(test_sample_with_recommendations, recommendations, k=5)\n",
        "ndcg10 = ndcg_at_k(test_sample_with_recommendations, recommendations, k=10)"
      ],
      "metadata": {
        "id": "c4GB1sBuqaNk"
      },
      "execution_count": null,
      "outputs": []
    },
    {
      "cell_type": "code",
      "source": [
        "print(f\"Hit@5: {hit5}\")\n",
        "print(f\"Hit@10: {hit10}\")\n",
        "print(f\"NDCG@5: {ndcg5}\")\n",
        "print(f\"NDCG@10: {ndcg10}\")"
      ],
      "metadata": {
        "colab": {
          "base_uri": "https://localhost:8080/"
        },
        "id": "SUTJCzltqaW6",
        "outputId": "43baf781-8396-4103-a5e2-fbe026b56be5"
      },
      "execution_count": null,
      "outputs": [
        {
          "output_type": "stream",
          "name": "stdout",
          "text": [
            "Hit@5: 0.032701660238135165\n",
            "Hit@10: 0.032701660238135165\n",
            "NDCG@5: 0.011237904070615092\n",
            "NDCG@10: 0.011176401928033725\n"
          ]
        }
      ]
    }
  ]
}